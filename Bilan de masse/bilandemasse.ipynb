{
 "cells": [
  {
   "cell_type": "code",
   "execution_count": 1,
   "metadata": {},
   "outputs": [
    {
     "name": "stdout",
     "output_type": "stream",
     "text": [
      "Balise 1 (altitude: 2100 m): Bilan de masse = -1.17 m eq. eau\n",
      "Balise 2 (altitude: 2200 m): Bilan de masse = -0.99 m eq. eau\n",
      "Balise 3 (altitude: 2300 m): Bilan de masse = -0.81 m eq. eau\n",
      "Balise 4 (altitude: 2400 m): Bilan de masse = -0.54 m eq. eau\n",
      "\n",
      "Moyenne du bilan de masse: -0.88 m eq. eau\n",
      "Écart-type du bilan de masse: 0.23 m eq. eau\n",
      "\n",
      "Coefficient de corrélation entre altitude et bilan de masse: 0.99\n"
     ]
    }
   ],
   "source": [
    "import numpy as np\n",
    "\n",
    "# Données hypothétiques (à remplacer par vos données réelles)\n",
    "balises = [1, 2, 3, 4]\n",
    "altitudes = [2100, 2200, 2300, 2400]  # en mètres\n",
    "emergence_2023 = [2.5, 2.2, 1.8, 1.5]  # en mètres\n",
    "emergence_2024 = [3.8, 3.3, 2.7, 2.1]  # en mètres\n",
    "\n",
    "densite_glace = 0.90\n",
    "\n",
    "# Calcul du bilan de masse pour chaque balise\n",
    "bilan_masse = []\n",
    "for e23, e24 in zip(emergence_2023, emergence_2024):\n",
    "    difference = e24 - e23\n",
    "    bilan = -difference * densite_glace  # Le signe négatif car une augmentation d'émergence signifie une perte de masse\n",
    "    bilan_masse.append(bilan)\n",
    "\n",
    "# Affichage des résultats\n",
    "for i, (altitude, bilan) in enumerate(zip(altitudes, bilan_masse), 1):\n",
    "    print(f\"Balise {i} (altitude: {altitude} m): Bilan de masse = {bilan:.2f} m eq. eau\")\n",
    "\n",
    "# Calcul de la moyenne et de l'écart-type\n",
    "moyenne_bilan = np.mean(bilan_masse)\n",
    "ecart_type_bilan = np.std(bilan_masse)\n",
    "\n",
    "print(f\"\\nMoyenne du bilan de masse: {moyenne_bilan:.2f} m eq. eau\")\n",
    "print(f\"Écart-type du bilan de masse: {ecart_type_bilan:.2f} m eq. eau\")\n",
    "\n",
    "# Analyse de la relation entre l'altitude et le bilan de masse\n",
    "correlation = np.corrcoef(altitudes, bilan_masse)[0, 1]\n",
    "print(f\"\\nCoefficient de corrélation entre altitude et bilan de masse: {correlation:.2f}\")"
   ]
  }
 ],
 "metadata": {
  "kernelspec": {
   "display_name": "geospatial",
   "language": "python",
   "name": "python3"
  },
  "language_info": {
   "codemirror_mode": {
    "name": "ipython",
    "version": 3
   },
   "file_extension": ".py",
   "mimetype": "text/x-python",
   "name": "python",
   "nbconvert_exporter": "python",
   "pygments_lexer": "ipython3",
   "version": "3.12.6"
  }
 },
 "nbformat": 4,
 "nbformat_minor": 2
}
