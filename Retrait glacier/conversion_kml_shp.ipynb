{
 "cells": [
  {
   "cell_type": "code",
   "execution_count": 7,
   "metadata": {},
   "outputs": [
    {
     "name": "stdout",
     "output_type": "stream",
     "text": [
      "Conversion terminée. Shapefile sauvegardé sous D:\\UQTR\\Automne 2024\\Ouest\\retrait_glacier\\retrait_points.shp\n"
     ]
    },
    {
     "ename": "",
     "evalue": "",
     "output_type": "error",
     "traceback": [
      "\u001b[1;31mThe Kernel crashed while executing code in the current cell or a previous cell. \n",
      "\u001b[1;31mPlease review the code in the cell(s) to identify a possible cause of the failure. \n",
      "\u001b[1;31mClick <a href='https://aka.ms/vscodeJupyterKernelCrash'>here</a> for more info. \n",
      "\u001b[1;31mView Jupyter <a href='command:jupyter.viewOutput'>log</a> for further details."
     ]
    }
   ],
   "source": [
    "from osgeo import ogr\n",
    "import os\n",
    "import warnings\n",
    "\n",
    "# Enable exceptions for GDAL\n",
    "ogr.UseExceptions()\n",
    "\n",
    "def kml_to_shp(input_kml, output_shp):\n",
    "    # Assurez-vous que le pilote KML est disponible\n",
    "    driver = ogr.GetDriverByName('KML')\n",
    "    if driver is None:\n",
    "        print(\"Le pilote KML n'est pas disponible.\")\n",
    "        return\n",
    "\n",
    "    # Ouvrir le fichier KML\n",
    "    input_datasource = driver.Open(input_kml, 0)\n",
    "    if input_datasource is None:\n",
    "        print(f\"Impossible d'ouvrir {input_kml}\")\n",
    "        return\n",
    "\n",
    "    # Créer le fichier Shapefile de sortie\n",
    "    shp_driver = ogr.GetDriverByName('ESRI Shapefile')\n",
    "    if os.path.exists(output_shp):\n",
    "        shp_driver.DeleteDataSource(output_shp)\n",
    "    output_datasource = shp_driver.CreateDataSource(output_shp)\n",
    "\n",
    "    # Copier toutes les couches du KML vers le Shapefile\n",
    "    for i in range(input_datasource.GetLayerCount()):\n",
    "        input_layer = input_datasource.GetLayer(i)\n",
    "        output_layer = output_datasource.CreateLayer(input_layer.GetName(), input_layer.GetSpatialRef(), input_layer.GetGeomType())\n",
    "\n",
    "        # Copier les champs\n",
    "        input_layer_defn = input_layer.GetLayerDefn()\n",
    "        for j in range(input_layer_defn.GetFieldCount()):\n",
    "            output_layer.CreateField(input_layer_defn.GetFieldDefn(j))\n",
    "\n",
    "        # Copier les entités\n",
    "        for feature in input_layer:\n",
    "            output_layer.CreateFeature(feature)\n",
    "\n",
    "    # Fermer les datasources\n",
    "    input_datasource = None\n",
    "    output_datasource = None\n",
    "\n",
    "    print(f\"Conversion terminée. Shapefile sauvegardé sous {output_shp}\")\n",
    "\n",
    "# Exemple d'utilisation\n",
    "input_kml = r\"D:\\UQTR\\Automne 2024\\Ouest\\retrait_glacier\\Ouest_retrait.kml\"\n",
    "output_shp = r\"D:\\UQTR\\Automne 2024\\Ouest\\retrait_glacier\\retrait_points.shp\"\n",
    "kml_to_shp(input_kml, output_shp)"
   ]
  }
 ],
 "metadata": {
  "kernelspec": {
   "display_name": "geospatial_env",
   "language": "python",
   "name": "python3"
  },
  "language_info": {
   "codemirror_mode": {
    "name": "ipython",
    "version": 3
   },
   "file_extension": ".py",
   "mimetype": "text/x-python",
   "name": "python",
   "nbconvert_exporter": "python",
   "pygments_lexer": "ipython3",
   "version": "3.10.15"
  }
 },
 "nbformat": 4,
 "nbformat_minor": 2
}
