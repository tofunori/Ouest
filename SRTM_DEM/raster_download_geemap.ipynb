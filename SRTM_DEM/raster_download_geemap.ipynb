{
 "cells": [
  {
   "cell_type": "code",
   "execution_count": 1,
   "metadata": {},
   "outputs": [
    {
     "data": {
      "application/vnd.jupyter.widget-view+json": {
       "model_id": "fcb68cc4e22049b886b4a11f13cf95cf",
       "version_major": 2,
       "version_minor": 0
      },
      "text/plain": [
       "Map(center=[0, 0], controls=(WidgetControl(options=['position', 'transparent_bg'], widget=SearchDataGUI(childr…"
      ]
     },
     "execution_count": 1,
     "metadata": {},
     "output_type": "execute_result"
    }
   ],
   "source": [
    "import geemap\n",
    "import ee\n",
    "\n",
    "# Authentifier et initialiser Google Earth Engine\n",
    "geemap.ee_initialize()\n",
    "\n",
    "# Créer une carte interactive\n",
    "m = geemap.Map(center=[0, 0], zoom=2)\n",
    "\n",
    "# Ajouter des outils de dessin pour dessiner une zone d'intérêt (ROI)\n",
    "m.add_basemap(\"SATELLITE\")  # Choisir un fond de carte satellite\n",
    "m.add_draw_control()  # Activer l'outil de dessin\n",
    "m\n",
    "\n",
    "# Une fois la zone d'intérêt dessinée sur la carte, vous pouvez obtenir la géométrie\n"
   ]
  },
  {
   "cell_type": "code",
   "execution_count": 2,
   "metadata": {},
   "outputs": [
    {
     "data": {
      "text/html": [
       "\n",
       "            <style>\n",
       "                .geemap-dark {\n",
       "                    --jp-widgets-color: white;\n",
       "                    --jp-widgets-label-color: white;\n",
       "                    --jp-ui-font-color1: white;\n",
       "                    --jp-layout-color2: #454545;\n",
       "                    background-color: #383838;\n",
       "                }\n",
       "\n",
       "                .geemap-dark .jupyter-button {\n",
       "                    --jp-layout-color3: #383838;\n",
       "                }\n",
       "\n",
       "                .geemap-colab {\n",
       "                    background-color: var(--colab-primary-surface-color, white);\n",
       "                }\n",
       "\n",
       "                .geemap-colab .jupyter-button {\n",
       "                    --jp-layout-color3: var(--colab-primary-surface-color, white);\n",
       "                }\n",
       "            </style>\n",
       "            "
      ],
      "text/plain": [
       "<IPython.core.display.HTML object>"
      ]
     },
     "metadata": {},
     "output_type": "display_data"
    },
    {
     "name": "stdout",
     "output_type": "stream",
     "text": [
      "Generating URL ...\n",
      "Downloading data from https://earthengine.googleapis.com/v1/projects/earthengine-legacy/thumbnails/687031ab7779411917e1beda1c8361ff-c3929a5a978cda491d2135d370a039f4:getPixels\n",
      "Please wait ...\n",
      "Data downloaded to D:\\UQTR\\Automne 2024\\Ouest\\SRTM\\SRTM_DEM.tif\n",
      "Fichier DEM téléchargé et sauvegardé sous : D:\\UQTR\\Automne 2024\\Ouest\\SRTM/SRTM_DEM.tif\n"
     ]
    }
   ],
   "source": [
    "# Une fois que vous avez dessiné la région d'intérêt (ROI), récupérez la géométrie\n",
    "region = m.user_roi  # m.user_roi contient la géométrie dessinée\n",
    "\n",
    "# Vérifiez que la géométrie a bien été capturée\n",
    "if region is None:\n",
    "    print(\"Veuillez dessiner une région d'intérêt avant de continuer.\")\n",
    "else:\n",
    "    # Charger les données SRTM depuis GEE\n",
    "    srtm = ee.Image(\"USGS/SRTMGL1_003\")\n",
    "\n",
    "    # Chemin où vous voulez sauvegarder l'image\n",
    "    out_dir = r\"D:\\UQTR\\Automne 2024\\Ouest\\SRTM\"\n",
    "    out_file = 'SRTM_DEM.tif'\n",
    "\n",
    "    # Exporter l'image SRTM pour la région dessinée\n",
    "    geemap.ee_export_image(\n",
    "        srtm, \n",
    "        filename=f\"{out_dir}/{out_file}\", \n",
    "        scale=30, \n",
    "        region=region, \n",
    "        file_per_band=False\n",
    "    )\n",
    "\n",
    "    print(f\"Fichier DEM téléchargé et sauvegardé sous : {out_dir}/{out_file}\")\n"
   ]
  }
 ],
 "metadata": {
  "kernelspec": {
   "display_name": "gee",
   "language": "python",
   "name": "python3"
  },
  "language_info": {
   "codemirror_mode": {
    "name": "ipython",
    "version": 3
   },
   "file_extension": ".py",
   "mimetype": "text/x-python",
   "name": "python",
   "nbconvert_exporter": "python",
   "pygments_lexer": "ipython3",
   "version": "3.12.5"
  }
 },
 "nbformat": 4,
 "nbformat_minor": 2
}
