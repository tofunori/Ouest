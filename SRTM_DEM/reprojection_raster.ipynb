{
 "cells": [
  {
   "cell_type": "code",
   "execution_count": 3,
   "metadata": {},
   "outputs": [
    {
     "name": "stdout",
     "output_type": "stream",
     "text": [
      "Transformation de coordonnées appliquée. Le fichier est sauvegardé à : D:\\UQTR\\Automne 2024\\Ouest\\SRTM\\SRTM_DEM_corrected6.tif\n"
     ]
    }
   ],
   "source": [
    "import os\n",
    "from osgeo import gdal\n",
    "\n",
    "# Charger le dataset DEM\n",
    "dem_path = r\"D:\\UQTR\\Automne 2024\\Ouest\\SRTM\\SRTM_DEM.tif\"\n",
    "dem_dataset = gdal.Open(dem_path)\n",
    "dem_band = dem_dataset.GetRasterBand(1)\n",
    "dem_array = dem_band.ReadAsArray()\n",
    "\n",
    "# Correction de la déviation locale (exemple)\n",
    "correction = 0  # Exemple de valeur de correction\n",
    "\n",
    "# Appliquer la déviation locale\n",
    "dem_array_corrected = dem_array - correction\n",
    "\n",
    "# Créer un dataset en mémoire pour le DEM corrigé\n",
    "driver = gdal.GetDriverByName('MEM')\n",
    "mem_dataset = driver.Create('', dem_dataset.RasterXSize, dem_dataset.RasterYSize, 1, gdal.GDT_Int16)\n",
    "mem_dataset.SetGeoTransform(dem_dataset.GetGeoTransform())\n",
    "mem_dataset.SetProjection(dem_dataset.GetProjection())\n",
    "mem_band = mem_dataset.GetRasterBand(1)\n",
    "mem_band.WriteArray(dem_array_corrected)\n",
    "\n",
    "# Appliquer la transformation de coordonnées directement depuis le dataset en mémoire\n",
    "output_corrected_dem = r\"D:\\UQTR\\Automne 2024\\Ouest\\SRTM\\SRTM_DEM_corrected6.tif\"\n",
    "gdal.Warp(output_corrected_dem, mem_dataset, srcSRS='EPSG:4326+5773', dstSRS='EPSG:4979')\n",
    "\n",
    "print(f\"Transformation de coordonnées appliquée. Le fichier est sauvegardé à : {output_corrected_dem}\")\n"
   ]
  }
 ],
 "metadata": {
  "kernelspec": {
   "display_name": "geospatial_env",
   "language": "python",
   "name": "python3"
  },
  "language_info": {
   "codemirror_mode": {
    "name": "ipython",
    "version": 3
   },
   "file_extension": ".py",
   "mimetype": "text/x-python",
   "name": "python",
   "nbconvert_exporter": "python",
   "pygments_lexer": "ipython3",
   "version": "3.10.15"
  }
 },
 "nbformat": 4,
 "nbformat_minor": 2
}
